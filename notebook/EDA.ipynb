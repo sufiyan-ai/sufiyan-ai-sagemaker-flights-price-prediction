{
 "cells": [
  {
   "cell_type": "code",
   "execution_count": 29,
   "id": "4ef56cc6-d1a2-4215-953f-e7394e643f8c",
   "metadata": {},
   "outputs": [],
   "source": [
    "import os\n",
    "import pandas as pd\n",
    "import numpy as np\n",
    "import seaborn as sns\n",
    "import matplotlib.pyplot as plt\n",
    "import eda_helper_functions\n",
    "from sklearn.ensemble import IsolationForest"
   ]
  },
  {
   "cell_type": "markdown",
   "id": "c1517dd2-d680-4228-9ccb-ef4123433177",
   "metadata": {},
   "source": [
    "- Reading Data"
   ]
  },
  {
   "cell_type": "code",
   "execution_count": 30,
   "id": "95b6f561-512b-4dcf-ab48-864ce7edf4df",
   "metadata": {},
   "outputs": [],
   "source": [
    "DATA_DIR=r\"C:\\SUFIYAN\\STUDY MATERIALS\\FOR CLASS\\sagemaker-flights-price-prediction\\data\"\n",
    "def read_data(data):\n",
    "    path=os.path.join(DATA_DIR,data)\n",
    "    return pd.read_csv(path)"
   ]
  },
  {
   "cell_type": "code",
   "execution_count": 31,
   "id": "149e0188-b70d-42d4-a203-7e781030ce57",
   "metadata": {},
   "outputs": [],
   "source": [
    "df=read_data('train.csv')"
   ]
  },
  {
   "cell_type": "code",
   "execution_count": 32,
   "id": "b31e07f9-6edf-425e-b96f-5bc3d3a9d3cb",
   "metadata": {},
   "outputs": [
    {
     "data": {
      "text/html": [
       "<div>\n",
       "<style scoped>\n",
       "    .dataframe tbody tr th:only-of-type {\n",
       "        vertical-align: middle;\n",
       "    }\n",
       "\n",
       "    .dataframe tbody tr th {\n",
       "        vertical-align: top;\n",
       "    }\n",
       "\n",
       "    .dataframe thead th {\n",
       "        text-align: right;\n",
       "    }\n",
       "</style>\n",
       "<table border=\"1\" class=\"dataframe\">\n",
       "  <thead>\n",
       "    <tr style=\"text-align: right;\">\n",
       "      <th></th>\n",
       "      <th>airline</th>\n",
       "      <th>date_of_journey</th>\n",
       "      <th>source</th>\n",
       "      <th>destination</th>\n",
       "      <th>dep_time</th>\n",
       "      <th>arrival_time</th>\n",
       "      <th>duration</th>\n",
       "      <th>total_stops</th>\n",
       "      <th>additional_info</th>\n",
       "      <th>price</th>\n",
       "    </tr>\n",
       "  </thead>\n",
       "  <tbody>\n",
       "    <tr>\n",
       "      <th>0</th>\n",
       "      <td>IndiGo</td>\n",
       "      <td>2019-06-12</td>\n",
       "      <td>Delhi</td>\n",
       "      <td>Cochin</td>\n",
       "      <td>10:35:00</td>\n",
       "      <td>01:30:00</td>\n",
       "      <td>895.0</td>\n",
       "      <td>1</td>\n",
       "      <td>No Info</td>\n",
       "      <td>5883</td>\n",
       "    </tr>\n",
       "    <tr>\n",
       "      <th>1</th>\n",
       "      <td>IndiGo</td>\n",
       "      <td>2019-06-18</td>\n",
       "      <td>Bengaluru</td>\n",
       "      <td>Delhi</td>\n",
       "      <td>10:10:00</td>\n",
       "      <td>13:00:00</td>\n",
       "      <td>170.0</td>\n",
       "      <td>0</td>\n",
       "      <td>No Info</td>\n",
       "      <td>3943</td>\n",
       "    </tr>\n",
       "    <tr>\n",
       "      <th>2</th>\n",
       "      <td>Jet Airways</td>\n",
       "      <td>2019-05-15</td>\n",
       "      <td>Kolkata</td>\n",
       "      <td>Bengaluru</td>\n",
       "      <td>09:35:00</td>\n",
       "      <td>10:55:00</td>\n",
       "      <td>1520.0</td>\n",
       "      <td>1</td>\n",
       "      <td>No Info</td>\n",
       "      <td>14151</td>\n",
       "    </tr>\n",
       "    <tr>\n",
       "      <th>3</th>\n",
       "      <td>Jet Airways</td>\n",
       "      <td>2019-06-03</td>\n",
       "      <td>Delhi</td>\n",
       "      <td>Cochin</td>\n",
       "      <td>19:45:00</td>\n",
       "      <td>19:00:00</td>\n",
       "      <td>1395.0</td>\n",
       "      <td>1</td>\n",
       "      <td>In-flight meal not included</td>\n",
       "      <td>10262</td>\n",
       "    </tr>\n",
       "    <tr>\n",
       "      <th>4</th>\n",
       "      <td>IndiGo</td>\n",
       "      <td>2019-05-18</td>\n",
       "      <td>Kolkata</td>\n",
       "      <td>Bengaluru</td>\n",
       "      <td>15:30:00</td>\n",
       "      <td>18:05:00</td>\n",
       "      <td>155.0</td>\n",
       "      <td>0</td>\n",
       "      <td>No Info</td>\n",
       "      <td>4804</td>\n",
       "    </tr>\n",
       "  </tbody>\n",
       "</table>\n",
       "</div>"
      ],
      "text/plain": [
       "       airline date_of_journey     source destination  dep_time arrival_time  \\\n",
       "0       IndiGo      2019-06-12      Delhi      Cochin  10:35:00     01:30:00   \n",
       "1       IndiGo      2019-06-18  Bengaluru       Delhi  10:10:00     13:00:00   \n",
       "2  Jet Airways      2019-05-15    Kolkata   Bengaluru  09:35:00     10:55:00   \n",
       "3  Jet Airways      2019-06-03      Delhi      Cochin  19:45:00     19:00:00   \n",
       "4       IndiGo      2019-05-18    Kolkata   Bengaluru  15:30:00     18:05:00   \n",
       "\n",
       "   duration  total_stops              additional_info  price  \n",
       "0     895.0            1                      No Info   5883  \n",
       "1     170.0            0                      No Info   3943  \n",
       "2    1520.0            1                      No Info  14151  \n",
       "3    1395.0            1  In-flight meal not included  10262  \n",
       "4     155.0            0                      No Info   4804  "
      ]
     },
     "execution_count": 32,
     "metadata": {},
     "output_type": "execute_result"
    }
   ],
   "source": [
    "df.head()"
   ]
  },
  {
   "cell_type": "code",
   "execution_count": 33,
   "id": "0e670e58-49cb-40ea-bcb4-56f9a2b13eaf",
   "metadata": {},
   "outputs": [
    {
     "name": "stdout",
     "output_type": "stream",
     "text": [
      "<class 'pandas.core.frame.DataFrame'>\n",
      "RangeIndex: 640 entries, 0 to 639\n",
      "Data columns (total 10 columns):\n",
      " #   Column           Non-Null Count  Dtype  \n",
      "---  ------           --------------  -----  \n",
      " 0   airline          640 non-null    object \n",
      " 1   date_of_journey  640 non-null    object \n",
      " 2   source           640 non-null    object \n",
      " 3   destination      640 non-null    object \n",
      " 4   dep_time         640 non-null    object \n",
      " 5   arrival_time     640 non-null    object \n",
      " 6   duration         640 non-null    float64\n",
      " 7   total_stops      640 non-null    int64  \n",
      " 8   additional_info  640 non-null    object \n",
      " 9   price            640 non-null    int64  \n",
      "dtypes: float64(1), int64(2), object(7)\n",
      "memory usage: 50.1+ KB\n"
     ]
    }
   ],
   "source": [
    "df.info()"
   ]
  },
  {
   "cell_type": "code",
   "execution_count": 34,
   "id": "5bcaa136-e8ca-4b82-ab9e-714fb3672cbb",
   "metadata": {},
   "outputs": [
    {
     "data": {
      "text/html": [
       "<div>\n",
       "<style scoped>\n",
       "    .dataframe tbody tr th:only-of-type {\n",
       "        vertical-align: middle;\n",
       "    }\n",
       "\n",
       "    .dataframe tbody tr th {\n",
       "        vertical-align: top;\n",
       "    }\n",
       "\n",
       "    .dataframe thead th {\n",
       "        text-align: right;\n",
       "    }\n",
       "</style>\n",
       "<table border=\"1\" class=\"dataframe\">\n",
       "  <thead>\n",
       "    <tr style=\"text-align: right;\">\n",
       "      <th></th>\n",
       "      <th>duration</th>\n",
       "      <th>total_stops</th>\n",
       "      <th>price</th>\n",
       "    </tr>\n",
       "  </thead>\n",
       "  <tbody>\n",
       "    <tr>\n",
       "      <th>count</th>\n",
       "      <td>640.000000</td>\n",
       "      <td>640.000000</td>\n",
       "      <td>640.000000</td>\n",
       "    </tr>\n",
       "    <tr>\n",
       "      <th>mean</th>\n",
       "      <td>638.539062</td>\n",
       "      <td>0.831250</td>\n",
       "      <td>9074.987500</td>\n",
       "    </tr>\n",
       "    <tr>\n",
       "      <th>std</th>\n",
       "      <td>492.270234</td>\n",
       "      <td>0.678043</td>\n",
       "      <td>4835.381205</td>\n",
       "    </tr>\n",
       "    <tr>\n",
       "      <th>min</th>\n",
       "      <td>75.000000</td>\n",
       "      <td>0.000000</td>\n",
       "      <td>1965.000000</td>\n",
       "    </tr>\n",
       "    <tr>\n",
       "      <th>25%</th>\n",
       "      <td>170.000000</td>\n",
       "      <td>0.000000</td>\n",
       "      <td>5101.250000</td>\n",
       "    </tr>\n",
       "    <tr>\n",
       "      <th>50%</th>\n",
       "      <td>560.000000</td>\n",
       "      <td>1.000000</td>\n",
       "      <td>8286.500000</td>\n",
       "    </tr>\n",
       "    <tr>\n",
       "      <th>75%</th>\n",
       "      <td>891.250000</td>\n",
       "      <td>1.000000</td>\n",
       "      <td>12122.500000</td>\n",
       "    </tr>\n",
       "    <tr>\n",
       "      <th>max</th>\n",
       "      <td>2315.000000</td>\n",
       "      <td>3.000000</td>\n",
       "      <td>46490.000000</td>\n",
       "    </tr>\n",
       "  </tbody>\n",
       "</table>\n",
       "</div>"
      ],
      "text/plain": [
       "          duration  total_stops         price\n",
       "count   640.000000   640.000000    640.000000\n",
       "mean    638.539062     0.831250   9074.987500\n",
       "std     492.270234     0.678043   4835.381205\n",
       "min      75.000000     0.000000   1965.000000\n",
       "25%     170.000000     0.000000   5101.250000\n",
       "50%     560.000000     1.000000   8286.500000\n",
       "75%     891.250000     1.000000  12122.500000\n",
       "max    2315.000000     3.000000  46490.000000"
      ]
     },
     "execution_count": 34,
     "metadata": {},
     "output_type": "execute_result"
    }
   ],
   "source": [
    "df.describe()"
   ]
  },
  {
   "cell_type": "code",
   "execution_count": 35,
   "id": "18368c1c-c7c9-47eb-b9df-3b1ebb3dd656",
   "metadata": {},
   "outputs": [
    {
     "data": {
      "text/plain": [
       "airline             object\n",
       "date_of_journey     object\n",
       "source              object\n",
       "destination         object\n",
       "dep_time            object\n",
       "arrival_time        object\n",
       "duration           float64\n",
       "total_stops          int64\n",
       "additional_info     object\n",
       "price                int64\n",
       "dtype: object"
      ]
     },
     "execution_count": 35,
     "metadata": {},
     "output_type": "execute_result"
    }
   ],
   "source": [
    "df.dtypes"
   ]
  },
  {
   "cell_type": "code",
   "execution_count": 36,
   "id": "34e0a4e2-f929-4526-a24a-eac23fecfb02",
   "metadata": {},
   "outputs": [],
   "source": [
    "df=df.assign(**{\n",
    "    col: pd.to_datetime(df.loc[:,col], dayfirst=True,format='mixed')\n",
    "    for col in ['date_of_journey', 'dep_time', 'arrival_time']\n",
    "})\n"
   ]
  },
  {
   "cell_type": "code",
   "execution_count": 37,
   "id": "03f15fa6-7afe-4043-b2f8-9be9c8c87b92",
   "metadata": {},
   "outputs": [
    {
     "data": {
      "text/plain": [
       "airline                    object\n",
       "date_of_journey    datetime64[ns]\n",
       "source                     object\n",
       "destination                object\n",
       "dep_time           datetime64[ns]\n",
       "arrival_time       datetime64[ns]\n",
       "duration                  float64\n",
       "total_stops                 int64\n",
       "additional_info            object\n",
       "price                       int64\n",
       "dtype: object"
      ]
     },
     "execution_count": 37,
     "metadata": {},
     "output_type": "execute_result"
    }
   ],
   "source": [
    "df.dtypes"
   ]
  },
  {
   "cell_type": "markdown",
   "id": "7b1111c7-10f1-44b4-8c18-4abdfd0d9bc7",
   "metadata": {},
   "source": [
    "# High-Level Summary of Data"
   ]
  },
  {
   "cell_type": "code",
   "execution_count": 38,
   "id": "17d0ee55-c63d-456a-be0a-419e762bd870",
   "metadata": {},
   "outputs": [
    {
     "name": "stdout",
     "output_type": "stream",
     "text": [
      "<class 'pandas.core.frame.DataFrame'>\n",
      "RangeIndex: 640 entries, 0 to 639\n",
      "Data columns (total 10 columns):\n",
      " #   Column           Non-Null Count  Dtype         \n",
      "---  ------           --------------  -----         \n",
      " 0   airline          640 non-null    object        \n",
      " 1   date_of_journey  640 non-null    datetime64[ns]\n",
      " 2   source           640 non-null    object        \n",
      " 3   destination      640 non-null    object        \n",
      " 4   dep_time         640 non-null    datetime64[ns]\n",
      " 5   arrival_time     640 non-null    datetime64[ns]\n",
      " 6   duration         640 non-null    float64       \n",
      " 7   total_stops      640 non-null    int64         \n",
      " 8   additional_info  640 non-null    object        \n",
      " 9   price            640 non-null    int64         \n",
      "dtypes: datetime64[ns](3), float64(1), int64(2), object(4)\n",
      "memory usage: 50.1+ KB\n"
     ]
    }
   ],
   "source": [
    "df.info()"
   ]
  },
  {
   "cell_type": "code",
   "execution_count": 39,
   "id": "64c7f45b-5791-4bd3-a35a-172ecfb76541",
   "metadata": {},
   "outputs": [
    {
     "data": {
      "text/html": [
       "<div>\n",
       "<style scoped>\n",
       "    .dataframe tbody tr th:only-of-type {\n",
       "        vertical-align: middle;\n",
       "    }\n",
       "\n",
       "    .dataframe tbody tr th {\n",
       "        vertical-align: top;\n",
       "    }\n",
       "\n",
       "    .dataframe thead th {\n",
       "        text-align: right;\n",
       "    }\n",
       "</style>\n",
       "<table border=\"1\" class=\"dataframe\">\n",
       "  <thead>\n",
       "    <tr style=\"text-align: right;\">\n",
       "      <th></th>\n",
       "      <th>duration</th>\n",
       "      <th>total_stops</th>\n",
       "      <th>price</th>\n",
       "    </tr>\n",
       "  </thead>\n",
       "  <tbody>\n",
       "    <tr>\n",
       "      <th>count</th>\n",
       "      <td>640.000000</td>\n",
       "      <td>640.000000</td>\n",
       "      <td>640.000000</td>\n",
       "    </tr>\n",
       "    <tr>\n",
       "      <th>mean</th>\n",
       "      <td>638.539062</td>\n",
       "      <td>0.831250</td>\n",
       "      <td>9074.987500</td>\n",
       "    </tr>\n",
       "    <tr>\n",
       "      <th>std</th>\n",
       "      <td>492.270234</td>\n",
       "      <td>0.678043</td>\n",
       "      <td>4835.381205</td>\n",
       "    </tr>\n",
       "    <tr>\n",
       "      <th>min</th>\n",
       "      <td>75.000000</td>\n",
       "      <td>0.000000</td>\n",
       "      <td>1965.000000</td>\n",
       "    </tr>\n",
       "    <tr>\n",
       "      <th>25%</th>\n",
       "      <td>170.000000</td>\n",
       "      <td>0.000000</td>\n",
       "      <td>5101.250000</td>\n",
       "    </tr>\n",
       "    <tr>\n",
       "      <th>50%</th>\n",
       "      <td>560.000000</td>\n",
       "      <td>1.000000</td>\n",
       "      <td>8286.500000</td>\n",
       "    </tr>\n",
       "    <tr>\n",
       "      <th>75%</th>\n",
       "      <td>891.250000</td>\n",
       "      <td>1.000000</td>\n",
       "      <td>12122.500000</td>\n",
       "    </tr>\n",
       "    <tr>\n",
       "      <th>max</th>\n",
       "      <td>2315.000000</td>\n",
       "      <td>3.000000</td>\n",
       "      <td>46490.000000</td>\n",
       "    </tr>\n",
       "  </tbody>\n",
       "</table>\n",
       "</div>"
      ],
      "text/plain": [
       "          duration  total_stops         price\n",
       "count   640.000000   640.000000    640.000000\n",
       "mean    638.539062     0.831250   9074.987500\n",
       "std     492.270234     0.678043   4835.381205\n",
       "min      75.000000     0.000000   1965.000000\n",
       "25%     170.000000     0.000000   5101.250000\n",
       "50%     560.000000     1.000000   8286.500000\n",
       "75%     891.250000     1.000000  12122.500000\n",
       "max    2315.000000     3.000000  46490.000000"
      ]
     },
     "execution_count": 39,
     "metadata": {},
     "output_type": "execute_result"
    }
   ],
   "source": [
    "df.describe(include='number')"
   ]
  },
  {
   "cell_type": "code",
   "execution_count": 40,
   "id": "b6a3c7b2-ad00-4b68-acce-681c8b41a186",
   "metadata": {},
   "outputs": [
    {
     "data": {
      "text/html": [
       "<div>\n",
       "<style scoped>\n",
       "    .dataframe tbody tr th:only-of-type {\n",
       "        vertical-align: middle;\n",
       "    }\n",
       "\n",
       "    .dataframe tbody tr th {\n",
       "        vertical-align: top;\n",
       "    }\n",
       "\n",
       "    .dataframe thead th {\n",
       "        text-align: right;\n",
       "    }\n",
       "</style>\n",
       "<table border=\"1\" class=\"dataframe\">\n",
       "  <thead>\n",
       "    <tr style=\"text-align: right;\">\n",
       "      <th></th>\n",
       "      <th>airline</th>\n",
       "      <th>source</th>\n",
       "      <th>destination</th>\n",
       "      <th>total_stops</th>\n",
       "      <th>additional_info</th>\n",
       "    </tr>\n",
       "  </thead>\n",
       "  <tbody>\n",
       "    <tr>\n",
       "      <th>count</th>\n",
       "      <td>640</td>\n",
       "      <td>640</td>\n",
       "      <td>640</td>\n",
       "      <td>640</td>\n",
       "      <td>640</td>\n",
       "    </tr>\n",
       "    <tr>\n",
       "      <th>unique</th>\n",
       "      <td>12</td>\n",
       "      <td>5</td>\n",
       "      <td>6</td>\n",
       "      <td>4</td>\n",
       "      <td>6</td>\n",
       "    </tr>\n",
       "    <tr>\n",
       "      <th>top</th>\n",
       "      <td>Jet Airways</td>\n",
       "      <td>Delhi</td>\n",
       "      <td>Cochin</td>\n",
       "      <td>1</td>\n",
       "      <td>No Info</td>\n",
       "    </tr>\n",
       "    <tr>\n",
       "      <th>freq</th>\n",
       "      <td>236</td>\n",
       "      <td>269</td>\n",
       "      <td>269</td>\n",
       "      <td>337</td>\n",
       "      <td>497</td>\n",
       "    </tr>\n",
       "  </tbody>\n",
       "</table>\n",
       "</div>"
      ],
      "text/plain": [
       "            airline source destination  total_stops additional_info\n",
       "count           640    640         640          640             640\n",
       "unique           12      5           6            4               6\n",
       "top     Jet Airways  Delhi      Cochin            1         No Info\n",
       "freq            236    269         269          337             497"
      ]
     },
     "execution_count": 40,
     "metadata": {},
     "output_type": "execute_result"
    }
   ],
   "source": [
    "(\n",
    "    df\n",
    "    .assign(total_stops=df['total_stops'].astype(object))\n",
    "    .describe(include='O')\n",
    ")"
   ]
  },
  {
   "cell_type": "markdown",
   "id": "82837625-2fcf-4d23-8138-f0bdec36fa25",
   "metadata": {},
   "source": [
    "# High-Level Analysis of Missing Values"
   ]
  },
  {
   "cell_type": "code",
   "execution_count": 41,
   "id": "9795207e-8f7a-4b9b-b13b-7379bae05284",
   "metadata": {},
   "outputs": [],
   "source": [
    "temp=pd.read_csv('C:/SUFIYAN/STUDY MATERIALS/FOR CLASS/FOR CLASS/Basics/train.csv')"
   ]
  },
  {
   "cell_type": "code",
   "execution_count": 43,
   "id": "6cfbf8fa-015b-4fbc-a217-8118b1f4814e",
   "metadata": {},
   "outputs": [],
   "source": [
    "a=[col for col in temp.columns if temp[col].isna().any()]"
   ]
  },
  {
   "cell_type": "code",
   "execution_count": 44,
   "id": "a687608d-545e-4a17-acf2-d3559f8559a5",
   "metadata": {},
   "outputs": [
    {
     "data": {
      "text/plain": [
       "[Age         177\n",
       " Cabin       687\n",
       " Embarked      2\n",
       " dtype: int64]"
      ]
     },
     "execution_count": 44,
     "metadata": {},
     "output_type": "execute_result"
    }
   ],
   "source": [
    "b=[temp[a].isna().sum()]\n",
    "b"
   ]
  },
  {
   "cell_type": "code",
   "execution_count": 45,
   "id": "b4ad7479-1e81-4953-9133-243c43f71379",
   "metadata": {},
   "outputs": [
    {
     "data": {
      "text/plain": [
       "[Age         19.865320\n",
       " Cabin       77.104377\n",
       " Embarked     0.224467\n",
       " dtype: float64]"
      ]
     },
     "execution_count": 45,
     "metadata": {},
     "output_type": "execute_result"
    }
   ],
   "source": [
    "c=[temp[a].isna().mean()*100]\n",
    "c"
   ]
  },
  {
   "cell_type": "code",
   "execution_count": 46,
   "id": "9551c408-477f-4fc4-99b5-c4cbcd82c469",
   "metadata": {},
   "outputs": [],
   "source": [
    "def missing_in(data):\n",
    "    na_cols=[col for col in data.columns if data[col].isna().any()]\n",
    "    na_counts=[data[col].isna().sum() for col in na_cols]\n",
    "    na_pct=[data[col].isna().mean()*100 for col in na_cols]\n",
    "\n",
    "\n",
    "    return(\n",
    "        pd\n",
    "        .DataFrame(data={\n",
    "            'Columns':na_cols,\n",
    "            'Counts':na_counts,\n",
    "            'Percentage':na_pct\n",
    "        }).sort_values(by='Counts',ascending=False)\n",
    "        .set_index('Columns')\n",
    "    )"
   ]
  },
  {
   "cell_type": "code",
   "execution_count": 53,
   "id": "56cb7139-60b5-4d86-9131-ba6d924c124c",
   "metadata": {},
   "outputs": [
    {
     "data": {
      "text/html": [
       "<div>\n",
       "<style scoped>\n",
       "    .dataframe tbody tr th:only-of-type {\n",
       "        vertical-align: middle;\n",
       "    }\n",
       "\n",
       "    .dataframe tbody tr th {\n",
       "        vertical-align: top;\n",
       "    }\n",
       "\n",
       "    .dataframe thead th {\n",
       "        text-align: right;\n",
       "    }\n",
       "</style>\n",
       "<table border=\"1\" class=\"dataframe\">\n",
       "  <thead>\n",
       "    <tr style=\"text-align: right;\">\n",
       "      <th></th>\n",
       "      <th>Counts</th>\n",
       "      <th>Percentage</th>\n",
       "    </tr>\n",
       "    <tr>\n",
       "      <th>Columns</th>\n",
       "      <th></th>\n",
       "      <th></th>\n",
       "    </tr>\n",
       "  </thead>\n",
       "  <tbody>\n",
       "    <tr>\n",
       "      <th>Cabin</th>\n",
       "      <td>687</td>\n",
       "      <td>77.104377</td>\n",
       "    </tr>\n",
       "    <tr>\n",
       "      <th>Age</th>\n",
       "      <td>177</td>\n",
       "      <td>19.865320</td>\n",
       "    </tr>\n",
       "    <tr>\n",
       "      <th>Embarked</th>\n",
       "      <td>2</td>\n",
       "      <td>0.224467</td>\n",
       "    </tr>\n",
       "  </tbody>\n",
       "</table>\n",
       "</div>"
      ],
      "text/plain": [
       "          Counts  Percentage\n",
       "Columns                     \n",
       "Cabin        687   77.104377\n",
       "Age          177   19.865320\n",
       "Embarked       2    0.224467"
      ]
     },
     "execution_count": 53,
     "metadata": {},
     "output_type": "execute_result"
    }
   ],
   "source": [
    "missing_in(temp)"
   ]
  },
  {
   "cell_type": "markdown",
   "id": "d104216b-4e20-49b1-8d2b-a1dbf0b2578b",
   "metadata": {},
   "source": [
    "# High-Level Analysis of Outliers"
   ]
  },
  {
   "cell_type": "code",
   "execution_count": 48,
   "id": "719f1a7e-b3d8-4bd7-9332-61ec6aa187d3",
   "metadata": {},
   "outputs": [],
   "source": [
    "forest=IsolationForest(random_state=42)"
   ]
  },
  {
   "cell_type": "code",
   "execution_count": 49,
   "id": "9ec3d5d0-19b3-4965-9dbc-8cfc140ecb9f",
   "metadata": {},
   "outputs": [
    {
     "data": {
      "text/html": [
       "<div>\n",
       "<style scoped>\n",
       "    .dataframe tbody tr th:only-of-type {\n",
       "        vertical-align: middle;\n",
       "    }\n",
       "\n",
       "    .dataframe tbody tr th {\n",
       "        vertical-align: top;\n",
       "    }\n",
       "\n",
       "    .dataframe thead th {\n",
       "        text-align: right;\n",
       "    }\n",
       "</style>\n",
       "<table border=\"1\" class=\"dataframe\">\n",
       "  <thead>\n",
       "    <tr style=\"text-align: right;\">\n",
       "      <th></th>\n",
       "      <th>airline</th>\n",
       "      <th>date_of_journey</th>\n",
       "      <th>source</th>\n",
       "      <th>destination</th>\n",
       "      <th>dep_time</th>\n",
       "      <th>arrival_time</th>\n",
       "      <th>duration</th>\n",
       "      <th>total_stops</th>\n",
       "      <th>additional_info</th>\n",
       "      <th>price</th>\n",
       "      <th>outlier</th>\n",
       "    </tr>\n",
       "  </thead>\n",
       "  <tbody>\n",
       "    <tr>\n",
       "      <th>527</th>\n",
       "      <td>Jet Airways</td>\n",
       "      <td>2019-03-27</td>\n",
       "      <td>Delhi</td>\n",
       "      <td>Cochin</td>\n",
       "      <td>2024-07-15 05:10:00</td>\n",
       "      <td>2024-07-15 19:45:00</td>\n",
       "      <td>2315.0</td>\n",
       "      <td>2</td>\n",
       "      <td>In-flight meal not included</td>\n",
       "      <td>8938</td>\n",
       "      <td>-1</td>\n",
       "    </tr>\n",
       "    <tr>\n",
       "      <th>524</th>\n",
       "      <td>Jet Airways</td>\n",
       "      <td>2019-03-27</td>\n",
       "      <td>Delhi</td>\n",
       "      <td>Cochin</td>\n",
       "      <td>2024-07-15 06:20:00</td>\n",
       "      <td>2024-07-15 19:45:00</td>\n",
       "      <td>2245.0</td>\n",
       "      <td>2</td>\n",
       "      <td>In-flight meal not included</td>\n",
       "      <td>9296</td>\n",
       "      <td>-1</td>\n",
       "    </tr>\n",
       "    <tr>\n",
       "      <th>592</th>\n",
       "      <td>Air India</td>\n",
       "      <td>2019-03-03</td>\n",
       "      <td>Delhi</td>\n",
       "      <td>Cochin</td>\n",
       "      <td>2024-07-15 05:55:00</td>\n",
       "      <td>2024-07-15 19:15:00</td>\n",
       "      <td>2240.0</td>\n",
       "      <td>2</td>\n",
       "      <td>No Info</td>\n",
       "      <td>13748</td>\n",
       "      <td>-1</td>\n",
       "    </tr>\n",
       "    <tr>\n",
       "      <th>102</th>\n",
       "      <td>Air India</td>\n",
       "      <td>2019-03-03</td>\n",
       "      <td>Bengaluru</td>\n",
       "      <td>New Delhi</td>\n",
       "      <td>2024-07-15 11:05:00</td>\n",
       "      <td>2024-07-15 22:10:00</td>\n",
       "      <td>2105.0</td>\n",
       "      <td>2</td>\n",
       "      <td>No Info</td>\n",
       "      <td>11948</td>\n",
       "      <td>-1</td>\n",
       "    </tr>\n",
       "    <tr>\n",
       "      <th>559</th>\n",
       "      <td>Air India</td>\n",
       "      <td>2019-03-03</td>\n",
       "      <td>Bengaluru</td>\n",
       "      <td>New Delhi</td>\n",
       "      <td>2024-07-15 11:05:00</td>\n",
       "      <td>2024-07-15 22:10:00</td>\n",
       "      <td>2105.0</td>\n",
       "      <td>2</td>\n",
       "      <td>No Info</td>\n",
       "      <td>11791</td>\n",
       "      <td>-1</td>\n",
       "    </tr>\n",
       "    <tr>\n",
       "      <th>...</th>\n",
       "      <td>...</td>\n",
       "      <td>...</td>\n",
       "      <td>...</td>\n",
       "      <td>...</td>\n",
       "      <td>...</td>\n",
       "      <td>...</td>\n",
       "      <td>...</td>\n",
       "      <td>...</td>\n",
       "      <td>...</td>\n",
       "      <td>...</td>\n",
       "      <td>...</td>\n",
       "    </tr>\n",
       "    <tr>\n",
       "      <th>541</th>\n",
       "      <td>IndiGo</td>\n",
       "      <td>2019-03-21</td>\n",
       "      <td>Mumbai</td>\n",
       "      <td>Hyderabad</td>\n",
       "      <td>2024-07-15 09:10:00</td>\n",
       "      <td>2024-07-15 10:35:00</td>\n",
       "      <td>85.0</td>\n",
       "      <td>0</td>\n",
       "      <td>No Info</td>\n",
       "      <td>4049</td>\n",
       "      <td>-1</td>\n",
       "    </tr>\n",
       "    <tr>\n",
       "      <th>422</th>\n",
       "      <td>IndiGo</td>\n",
       "      <td>2019-03-21</td>\n",
       "      <td>Mumbai</td>\n",
       "      <td>Hyderabad</td>\n",
       "      <td>2024-07-15 06:20:00</td>\n",
       "      <td>2024-07-15 07:45:00</td>\n",
       "      <td>85.0</td>\n",
       "      <td>0</td>\n",
       "      <td>No Info</td>\n",
       "      <td>4049</td>\n",
       "      <td>-1</td>\n",
       "    </tr>\n",
       "    <tr>\n",
       "      <th>436</th>\n",
       "      <td>Air India</td>\n",
       "      <td>2019-03-21</td>\n",
       "      <td>Mumbai</td>\n",
       "      <td>Hyderabad</td>\n",
       "      <td>2024-07-15 21:05:00</td>\n",
       "      <td>2024-07-15 22:25:00</td>\n",
       "      <td>80.0</td>\n",
       "      <td>0</td>\n",
       "      <td>No Info</td>\n",
       "      <td>2050</td>\n",
       "      <td>-1</td>\n",
       "    </tr>\n",
       "    <tr>\n",
       "      <th>93</th>\n",
       "      <td>Air India</td>\n",
       "      <td>2019-06-24</td>\n",
       "      <td>Mumbai</td>\n",
       "      <td>Hyderabad</td>\n",
       "      <td>2024-07-15 06:20:00</td>\n",
       "      <td>2024-07-15 07:40:00</td>\n",
       "      <td>80.0</td>\n",
       "      <td>0</td>\n",
       "      <td>No Info</td>\n",
       "      <td>3100</td>\n",
       "      <td>-1</td>\n",
       "    </tr>\n",
       "    <tr>\n",
       "      <th>361</th>\n",
       "      <td>Air India</td>\n",
       "      <td>2019-06-01</td>\n",
       "      <td>Mumbai</td>\n",
       "      <td>Hyderabad</td>\n",
       "      <td>2024-07-15 19:30:00</td>\n",
       "      <td>2024-07-15 20:45:00</td>\n",
       "      <td>75.0</td>\n",
       "      <td>0</td>\n",
       "      <td>No Info</td>\n",
       "      <td>3100</td>\n",
       "      <td>-1</td>\n",
       "    </tr>\n",
       "  </tbody>\n",
       "</table>\n",
       "<p>269 rows × 11 columns</p>\n",
       "</div>"
      ],
      "text/plain": [
       "         airline date_of_journey     source destination            dep_time  \\\n",
       "527  Jet Airways      2019-03-27      Delhi      Cochin 2024-07-15 05:10:00   \n",
       "524  Jet Airways      2019-03-27      Delhi      Cochin 2024-07-15 06:20:00   \n",
       "592    Air India      2019-03-03      Delhi      Cochin 2024-07-15 05:55:00   \n",
       "102    Air India      2019-03-03  Bengaluru   New Delhi 2024-07-15 11:05:00   \n",
       "559    Air India      2019-03-03  Bengaluru   New Delhi 2024-07-15 11:05:00   \n",
       "..           ...             ...        ...         ...                 ...   \n",
       "541       IndiGo      2019-03-21     Mumbai   Hyderabad 2024-07-15 09:10:00   \n",
       "422       IndiGo      2019-03-21     Mumbai   Hyderabad 2024-07-15 06:20:00   \n",
       "436    Air India      2019-03-21     Mumbai   Hyderabad 2024-07-15 21:05:00   \n",
       "93     Air India      2019-06-24     Mumbai   Hyderabad 2024-07-15 06:20:00   \n",
       "361    Air India      2019-06-01     Mumbai   Hyderabad 2024-07-15 19:30:00   \n",
       "\n",
       "           arrival_time  duration  total_stops              additional_info  \\\n",
       "527 2024-07-15 19:45:00    2315.0            2  In-flight meal not included   \n",
       "524 2024-07-15 19:45:00    2245.0            2  In-flight meal not included   \n",
       "592 2024-07-15 19:15:00    2240.0            2                      No Info   \n",
       "102 2024-07-15 22:10:00    2105.0            2                      No Info   \n",
       "559 2024-07-15 22:10:00    2105.0            2                      No Info   \n",
       "..                  ...       ...          ...                          ...   \n",
       "541 2024-07-15 10:35:00      85.0            0                      No Info   \n",
       "422 2024-07-15 07:45:00      85.0            0                      No Info   \n",
       "436 2024-07-15 22:25:00      80.0            0                      No Info   \n",
       "93  2024-07-15 07:40:00      80.0            0                      No Info   \n",
       "361 2024-07-15 20:45:00      75.0            0                      No Info   \n",
       "\n",
       "     price  outlier  \n",
       "527   8938       -1  \n",
       "524   9296       -1  \n",
       "592  13748       -1  \n",
       "102  11948       -1  \n",
       "559  11791       -1  \n",
       "..     ...      ...  \n",
       "541   4049       -1  \n",
       "422   4049       -1  \n",
       "436   2050       -1  \n",
       "93    3100       -1  \n",
       "361   3100       -1  \n",
       "\n",
       "[269 rows x 11 columns]"
      ]
     },
     "execution_count": 49,
     "metadata": {},
     "output_type": "execute_result"
    }
   ],
   "source": [
    "(\n",
    "    df\n",
    "    .assign(outlier=forest.fit_predict(df\n",
    "                                      .drop(columns='price')\n",
    "                                      .select_dtypes(include='number')))\n",
    "    .query('outlier==-1')\n",
    "    .sort_values(by='duration',ascending=False)\n",
    ")"
   ]
  },
  {
   "cell_type": "markdown",
   "id": "a6892ebe-3d67-40bd-b452-0dfd052862c5",
   "metadata": {},
   "source": [
    "# Automated EDA Report"
   ]
  },
  {
   "cell_type": "code",
   "execution_count": 50,
   "id": "456923a3-5417-46b7-a91b-86265c8b373d",
   "metadata": {},
   "outputs": [],
   "source": [
    "from ydata_profiling import ProfileReport"
   ]
  },
  {
   "cell_type": "code",
   "execution_count": 55,
   "id": "1fb03584-ac10-4587-999b-9966e3ff212d",
   "metadata": {},
   "outputs": [],
   "source": [
    "report=ProfileReport(df)"
   ]
  },
  {
   "cell_type": "code",
   "execution_count": 57,
   "id": "76f39ecb-a703-4512-a54f-988dbff201ef",
   "metadata": {},
   "outputs": [
    {
     "data": {
      "application/vnd.jupyter.widget-view+json": {
       "model_id": "04218ce005c14624ad9023ffbbda2b34",
       "version_major": 2,
       "version_minor": 0
      },
      "text/plain": [
       "Export report to file:   0%|          | 0/1 [00:00<?, ?it/s]"
      ]
     },
     "metadata": {},
     "output_type": "display_data"
    }
   ],
   "source": [
    "report.to_file(output_file='output.html')"
   ]
  },
  {
   "cell_type": "code",
   "execution_count": null,
   "id": "0cad5db6-4bea-413f-bad5-2fd286d01d29",
   "metadata": {},
   "outputs": [],
   "source": []
  }
 ],
 "metadata": {
  "kernelspec": {
   "display_name": "Python 3 (ipykernel)",
   "language": "python",
   "name": "python3"
  },
  "language_info": {
   "codemirror_mode": {
    "name": "ipython",
    "version": 3
   },
   "file_extension": ".py",
   "mimetype": "text/x-python",
   "name": "python",
   "nbconvert_exporter": "python",
   "pygments_lexer": "ipython3",
   "version": "3.10.0"
  }
 },
 "nbformat": 4,
 "nbformat_minor": 5
}
